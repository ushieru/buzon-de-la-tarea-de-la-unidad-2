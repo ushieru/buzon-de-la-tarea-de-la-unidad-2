{
  "cells": [
    {
      "cell_type": "markdown",
      "metadata": {
        "id": "view-in-github",
        "colab_type": "text"
      },
      "source": [
        "<a href=\"https://colab.research.google.com/github/USHIERU/buzon-de-la-tarea-de-la-unidad-2/blob/main/Buzón_de_la_Tarea_de_la_Unidad_2.ipynb\" target=\"_parent\"><img src=\"https://colab.research.google.com/assets/colab-badge.svg\" alt=\"Open In Colab\"/></a>"
      ]
    },
    {
      "cell_type": "markdown",
      "metadata": {
        "id": "yN-eq9pvZp6G"
      },
      "source": [
        "# Ejercicio 1\n",
        "Escriba un programa que lea repetidamente los números hasta que el usuario ingrese\n",
        "\"hecho\". Una vez que se ingresa \"hecho\", imprima el total, el recuento y el promedio de los\n",
        "números. Si el usuario ingresa algo que no sea un número, detecte el error usando try y except e\n",
        "imprima un mensaje de error y salta al siguiente número.\n",
        "Ingresa un número: 4\n",
        "Ingresa un número: 5\n",
        "Ingrese un número: datos incorrectos\n",
        "Entrada inválida\n",
        "Ingrese un número: 7\n",
        "Ingrese un número: hecho\n",
        "16 3 5.333333333333333"
      ]
    },
    {
      "cell_type": "code",
      "execution_count": 5,
      "metadata": {
        "colab": {
          "base_uri": "https://localhost:8080/"
        },
        "id": "qNdmoF06Zjy9",
        "outputId": "b839ae07-8c16-466e-8e56-c7c2d27a5680"
      },
      "outputs": [
        {
          "name": "stdout",
          "output_type": "stream",
          "text": [
            "Ingrese un número:\n",
            "> 4\n",
            "Ingrese un número:\n",
            "> 5\n",
            "Ingrese un número:\n",
            "> qwe\n",
            "Entrada inválida\n",
            "Ingrese un número:\n",
            "> 7\n",
            "Ingrese un número:\n",
            "> hecho\n",
            "Total: 16.0 Numeros ingresados: 3 Promedio: 5.333333333333333\n"
          ]
        }
      ],
      "source": [
        "is_done = False\n",
        "total = 0\n",
        "count = 0\n",
        "while not is_done:\n",
        "  new_number = input(\"Ingrese un número:\\n> \")\n",
        "  if new_number == \"hecho\":\n",
        "    is_done = True\n",
        "    break\n",
        "  try:\n",
        "    new_number = float(new_number)\n",
        "  except:\n",
        "    print(\"Entrada inválida\")\n",
        "    continue\n",
        "  total = total + new_number\n",
        "  count = count + 1\n",
        "print(f'Total: {total}', f'Numeros ingresados: {count}', f'Promedio: {total/count}')"
      ]
    },
    {
      "cell_type": "markdown",
      "metadata": {
        "id": "TbwTEbHcaic7"
      },
      "source": [
        "# Ejercicio 2\n",
        "Escriba otro programa que solicite una lista de números como se indica anteriormente y al final\n",
        "imprime tanto el número máximo como el mínimo de los números del promedio"
      ]
    },
    {
      "cell_type": "code",
      "execution_count": 6,
      "metadata": {
        "colab": {
          "base_uri": "https://localhost:8080/"
        },
        "id": "EwSFhzlxamO3",
        "outputId": "bd84be76-0166-4f36-e84e-d4f382c26712"
      },
      "outputs": [
        {
          "name": "stdout",
          "output_type": "stream",
          "text": [
            "Ingrese un número:\n",
            "> 4\n",
            "Ingrese un número:\n",
            "> 5\n",
            "Ingrese un número:\n",
            "> qwe\n",
            "Entrada inválida\n",
            "Ingrese un número:\n",
            "> 7\n",
            "Ingrese un número:\n",
            "> hecho\n",
            "Max: 7.0 Min: 4.0\n",
            "Total: 16.0 Numeros ingresados: 3 Promedio: 5.333333333333333\n"
          ]
        }
      ],
      "source": [
        "is_done = False\n",
        "numbers = []\n",
        "while not is_done:\n",
        "  new_number = input(\"Ingrese un número:\\n> \")\n",
        "  if new_number == \"hecho\":\n",
        "    is_done = True\n",
        "    break\n",
        "  try:\n",
        "    new_number = float(new_number)\n",
        "  except:\n",
        "    print(\"Entrada inválida\")\n",
        "    continue\n",
        "  numbers.append(new_number)\n",
        "total = sum(numbers)\n",
        "count = len(numbers)\n",
        "print(f'Max: {max(numbers)}', f'Min: {min(numbers)}')\n",
        "print(f'Total: {total}', f'Numeros ingresados: {count}', f'Promedio: {total/count}')"
      ]
    }
  ],
  "metadata": {
    "colab": {
      "provenance": []
    },
    "kernelspec": {
      "display_name": "Python 3",
      "name": "python3"
    },
    "language_info": {
      "name": "python"
    }
  },
  "nbformat": 4,
  "nbformat_minor": 0
}
